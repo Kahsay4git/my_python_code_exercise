{
 "cells": [
  {
   "cell_type": "code",
   "execution_count": 9,
   "id": "f86993bf",
   "metadata": {},
   "outputs": [],
   "source": [
    "def decorate_fuc(args):\n",
    "    def wrapper():\n",
    "        print(\"this is application of decorate\")\n",
    "        args()# call function\n",
    "        print(\"printed ater \")\n",
    "    return wrapper\n"
   ]
  },
  {
   "cell_type": "code",
   "execution_count": 29,
   "id": "15a1a637",
   "metadata": {},
   "outputs": [
    {
     "name": "stdout",
     "output_type": "stream",
     "text": [
      "this is application of decorate\n",
      "hey kahsay this will seen at wrapper\n",
      "printed ater \n"
     ]
    }
   ],
   "source": [
    "\n",
    "\n",
    "#use decorators in a simpler way with the @ symbol, this\n",
    "#@decorate_fuc = torefer_args= decorate_fuc(torefer_args) torefer_args()\n",
    "@decorate_fuc\n",
    "def torefer_args():\n",
    "    print(\"hey kahsay this will seen at wrapper\")\n",
    "\n",
    "torefer_args() #call"
   ]
  },
  {
   "cell_type": "code",
   "execution_count": null,
   "id": "48580b52",
   "metadata": {},
   "outputs": [],
   "source": [
    "\n"
   ]
  },
  {
   "cell_type": "code",
   "execution_count": null,
   "id": "7f7311f8",
   "metadata": {},
   "outputs": [],
   "source": []
  },
  {
   "cell_type": "code",
   "execution_count": null,
   "id": "1bcd7a39",
   "metadata": {},
   "outputs": [],
   "source": []
  }
 ],
 "metadata": {
  "kernelspec": {
   "display_name": "Python 3 (ipykernel)",
   "language": "python",
   "name": "python3"
  },
  "language_info": {
   "codemirror_mode": {
    "name": "ipython",
    "version": 3
   },
   "file_extension": ".py",
   "mimetype": "text/x-python",
   "name": "python",
   "nbconvert_exporter": "python",
   "pygments_lexer": "ipython3",
   "version": "3.9.13"
  }
 },
 "nbformat": 4,
 "nbformat_minor": 5
}
