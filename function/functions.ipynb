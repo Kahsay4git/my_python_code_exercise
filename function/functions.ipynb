{
 "cells": [
  {
   "cell_type": "code",
   "execution_count": null,
   "id": "b3d5bcde",
   "metadata": {},
   "outputs": [],
   "source": [
    "import numpy as np \n",
    "import pandas as pd\n",
    "import matplotlib.pyplot as plt\n",
    "import socket as sk\n",
    "import math \n",
    "print(sk.gethostname())#get host name\n",
    "\n"
   ]
  },
  {
   "cell_type": "code",
   "execution_count": null,
   "id": "953e4941",
   "metadata": {},
   "outputs": [],
   "source": [
    "itm_label=['java','python','c']\n",
    "weight=[120,140,120]\n",
    "plt.pie(weight,labels=itm)\n",
    "plt.show()"
   ]
  },
  {
   "cell_type": "code",
   "execution_count": null,
   "id": "28f45661",
   "metadata": {},
   "outputs": [],
   "source": [
    "my_string = \"0123456789\"\n",
    "print(my_string[-2: -6: -2])\n",
    "\n"
   ]
  },
  {
   "cell_type": "code",
   "execution_count": null,
   "id": "351d1d5a",
   "metadata": {},
   "outputs": [],
   "source": [
    "x = 20\n",
    "y = 5\n",
    "z =  (4 - y * False)\n",
    "print(z)\n",
    "result = (x + True) / (4 - y * False)# True mean 1 and False = 0 represent\n",
    "print(result)"
   ]
  },
  {
   "cell_type": "code",
   "execution_count": null,
   "id": "03169192",
   "metadata": {},
   "outputs": [],
   "source": [
    "G = 6.67 * (10 ** -11)\n",
    "M = 6.0 * (10 ** 24)  # Mass of Earth\n",
    "m = 7.34 * (10 ** 22)  # Mass of the moon\n",
    "r = 3.84 * (10 ** 8)\n",
    "\n",
    "# Write your code here\n",
    "grav_force  = G*M*m/r**2\n",
    "print(\"Gravitational force is the attractive force that exists between two masses: \",grav_force)"
   ]
  },
  {
   "cell_type": "code",
   "execution_count": null,
   "id": "d9a2de15",
   "metadata": {},
   "outputs": [],
   "source": [
    "#if-else expression output1 if condition else oupute2 \n",
    "#backslash \\ use to line continution\n",
    "num = 1\n",
    "\n",
    "output= \"this for first condtion\" \\\n",
    " if num >= 20 else \"assigned to out if condition failed \"\n",
    "print(output)\n"
   ]
  },
  {
   "cell_type": "code",
   "execution_count": null,
   "id": "73844c74",
   "metadata": {},
   "outputs": [],
   "source": [
    "output= \"this for first condtion ok or num is greater or equll 20\"  if num >= 20 else \"num less than 20 condition failed \"\n",
    "print(output)\n"
   ]
  },
  {
   "cell_type": "code",
   "execution_count": null,
   "id": "6e77716f",
   "metadata": {},
   "outputs": [],
   "source": [
    "''' the if-else statement handles two sides of the same condition: True and False. This works very well if we’re working with a problem that only has two outcomes.\n",
    "\n",
    "However, in programming, it isn’t always a True or False scenario, and a problem can have multiple outcomes.\n",
    "\n",
    "This is where the if-elif-else statement shines. It is the most comprehensive conditional statement because it allows us to create multiple conditions easily.\n",
    "\n",
    "The elif stands for else if, indicating that if the previous condition fails, try this one.'''\n",
    "num1 = 10\n",
    "num2 = 20\n",
    "result = 4000\n",
    "\n",
    "if (num1 > 50 or not num2 <= 5):\n",
    "    result = num1 * num2\n",
    "else:\n",
    "    result = num1 + num2\n",
    "print(result)\n"
   ]
  },
  {
   "cell_type": "code",
   "execution_count": null,
   "id": "5ae52e15",
   "metadata": {},
   "outputs": [],
   "source": [
    "price = 250\n",
    "if price >= 300:\n",
    "    price =price  - 0.3*price\n",
    "elif 200 <= price < 300:\n",
    "    price =price  - 0.2*price\n",
    "elif 100 <= price < 200:\n",
    "       price =price - 0.1*price\n",
    "elif price < 100:\n",
    "       price = price - 0.05*price\n",
    "else:\n",
    "    print(\"price is negative, there will be no discount\")\n",
    "\n",
    "print(price)"
   ]
  },
  {
   "cell_type": "code",
   "execution_count": null,
   "id": "49163dd5",
   "metadata": {},
   "outputs": [],
   "source": [
    "#immutable numbers and string\n",
    "num = 20\n",
    "\n",
    "\n",
    "def multiply_by_10(num):\n",
    "    num *= 10\n",
    "   # num = n  # Changing the value inside the function\n",
    "    print(\"Value of num inside function:\", num)\n",
    "    return num\n",
    "\n",
    "\n",
    "multiply_by_10(num)\n",
    "print(\"Value of num outside function:\", num)  # The original value remains unchanged\n"
   ]
  },
  {
   "cell_type": "code",
   "execution_count": null,
   "id": "28be18c9",
   "metadata": {},
   "outputs": [],
   "source": [
    "#mutable lists\n",
    "num_list = [10, 20, 30, 40]\n",
    "print(num_list)\n",
    "\n",
    "\n",
    "def multiply_by_10(my_list):\n",
    "    my_list[0] *= 10\n",
    "    my_list[1] *= 10\n",
    "    my_list[2] *= 10\n",
    "    my_list[3] *= 10\n",
    "\n",
    "\n",
    "multiply_by_10(num_list)\n",
    "print(num_list)  # The contents of the list have been changed\n"
   ]
  },
  {
   "cell_type": "code",
   "execution_count": null,
   "id": "fd587939",
   "metadata": {},
   "outputs": [],
   "source": [
    "#Search using the method fullstr.find(substr,startIndex,endIndex) return -1 if don't exit\n",
    "random_string = \"This is a string\"\n",
    "print(random_string.find(\"tr\"))  # First instance of 'is' occurs at index 2\n",
    "print(random_string.find(\"is\", 9, 13))  # No instance of 'is' in this range\n"
   ]
  },
  {
   "cell_type": "code",
   "execution_count": null,
   "id": "f567f56c",
   "metadata": {},
   "outputs": [],
   "source": [
    "#replace fullstr.replace(oldstr,newstr)\n",
    "a_string = \"Welcome to Educative! the site https://www.educative.io/\"\n",
    "new_string = a_string.replace(\"Welcome to\", \"Greetings from\")\n",
    "print(a_string)\n",
    "print(new_string)\n"
   ]
  },
  {
   "cell_type": "code",
   "execution_count": null,
   "id": "daa17d54",
   "metadata": {},
   "outputs": [],
   "source": [
    "#Joining strings#\n",
    "list_item = ['1','5','21'] #must be str the list also\n",
    "str_itm= \":this wl join b/n list \"\n",
    "print(str_itm.join(list_item))\n"
   ]
  },
  {
   "cell_type": "code",
   "execution_count": null,
   "id": "43701650",
   "metadata": {},
   "outputs": [],
   "source": [
    "#The format() method can be used to format the specified value(s) and insert them in string’s placeholder(s). Let’s try it out:\n",
    "\n",
    "py_1 = 'basic tutorial '\n",
    "py_2 = 'intermediat tutorial'\n",
    "py_3 = 'advanced tutor'\n",
    "string1 = \"Learn Python {version} at {cname}\".format(version = 3, cname = \"Educative\")#named index\n",
    "string2 = \"Learn Python {0} at {1}\".format(3, \"Educative\")#numbered indexed\n",
    "string3 = \"Learn Python {} at {}\".format(3, \"Educative\")#empty\n",
    "\n",
    "print(string1)\n",
    "print(string2)\n",
    "print(string3)"
   ]
  },
  {
   "cell_type": "code",
   "execution_count": null,
   "id": "15f033f0",
   "metadata": {},
   "outputs": [],
   "source": [
    "#lambda anonymous function  syntax lambda pareametrs:expression\n",
    "#a lambda that triples the value of the parameter and returns this new valuetr\n",
    "trip_value = lambda x:x*3\n",
    "print(trip_value(20))"
   ]
  },
  {
   "cell_type": "code",
   "execution_count": null,
   "id": "b50e315e",
   "metadata": {},
   "outputs": [],
   "source": [
    "#lambda that concatenates the first characters of three strings together\n",
    "a='Helo'\n",
    "b='kahsa'\n",
    "c='Gre'\n",
    "concatnet = lambda a,b,c : a[0] +b[0]+c[0]\n",
    "print(concatnet(a,b,c))\n"
   ]
  },
  {
   "cell_type": "code",
   "execution_count": null,
   "id": "a363f2f9",
   "metadata": {},
   "outputs": [],
   "source": [
    "#Functions as Arguments \n",
    "#simple calculate application\n",
    "n1 = int(input('enter first number: '))\n",
    "n2 = int(input('enter second number: '))\n",
    "#operation = input(\"enter what do u want to do\")\n",
    "def add(n1,n2):\n",
    "    return n1 + n2\n",
    "#elif(operation == 'sub'):\n",
    "def sub(n1,n2):\n",
    "        return n1 - n2\n",
    "def div(n1,n2):\n",
    "    return n1/n2\n",
    "def mul(n1,n2):\n",
    "    return n1 * n2\n",
    "def calculator(operation,n1,n2):\n",
    "    return operation(n1,n2)\n",
    "\n",
    "result = calculator(mul, n1, n2)\n",
    "print('result of {0}x{1}='.format(n1,n2), result)\n",
    "print('addition',calculator(add, n1, n2))\n"
   ]
  },
  {
   "cell_type": "code",
   "execution_count": null,
   "id": "4dddf06d",
   "metadata": {},
   "outputs": [],
   "source": [
    "#built-in map() function creates a map object using an existing list and a function as its parameters\n",
    "#map(function, list)\n",
    "lst_itm = [3,5,4,7]\n",
    "dubl_lst = map(lambda n:n*2,lst_itm)\n",
    "print('map fuction: ',list(dubl_lst))\n",
    "#filter(fuction, list)\n",
    "flter_rst= filter(lambda n:n%2 == 0,lst_itm)\n",
    "print('filter even number list:',list(flter_rst))"
   ]
  },
  {
   "cell_type": "code",
   "execution_count": null,
   "id": "2d87ae36",
   "metadata": {},
   "outputs": [],
   "source": [
    "#find the unique elements from string chang the str to set = take one chracter from repeation\n",
    "given_str = 'kahsaygebrekidansyum'\n",
    "print('unique elements :',set(given_str),sep='\\n')\n",
    "print('unique elements in vertical :',*set(given_str),sep='\\n')"
   ]
  },
  {
   "cell_type": "code",
   "execution_count": null,
   "id": "fdac5472",
   "metadata": {},
   "outputs": [],
   "source": [
    "#find max value from list\n",
    "lst_v = [3,8,5,12,89,0]\n",
    "#max(lst_v) built function\n",
    "max_v = lst_v[0]\n",
    "for i in lst_v:    \n",
    "    if(i > max_v):\n",
    "        max_v = i \n",
    "        \n",
    "print(max_v)\n",
    "       \n",
    "\n"
   ]
  },
  {
   "cell_type": "code",
   "execution_count": null,
   "id": "be1c30e3",
   "metadata": {},
   "outputs": [],
   "source": [
    "from datetime import date,timedelta \n",
    "tday= date.today()\n",
    "timday = timedelta()\n",
    "print(tday,timday)"
   ]
  },
  {
   "cell_type": "code",
   "execution_count": null,
   "id": "c0ded1bf",
   "metadata": {},
   "outputs": [],
   "source": [
    "#sun flower\n",
    "print(f'{127803: ^20c}')"
   ]
  },
  {
   "cell_type": "code",
   "execution_count": null,
   "id": "07ab7053",
   "metadata": {},
   "outputs": [],
   "source": [
    "\n",
    "for i in range(1,5):\n",
    "    for j in range(1,i+1):\n",
    "        print(j, end='')\n",
    "    print()\n",
    "    "
   ]
  },
  {
   "cell_type": "code",
   "execution_count": null,
   "id": "4c6628e8",
   "metadata": {},
   "outputs": [],
   "source": [
    "#recursion  is a function calls itself during its execution\n",
    "# the recursive calls stop at the base case.\n",
    "#solve many problems related to graphs and trees. It is also important in search algorithms.\n",
    "#Q: write python code that decrements a number recursively until the number becomes 0 and increments:\n",
    "\n",
    "def decrment_num(num):\n",
    "    print(num,end=',')\n",
    "    # Base case\n",
    "    if num == 0:\n",
    "        return 0\n",
    "    decrment_num(num-1)\n",
    "    #print(num , end='')\n",
    "    \n",
    "num = int(input('Enter a number : '))\n",
    "decrment_num(num)\n",
    "#print(rst)\n",
    "\n",
    "print('\\n.......fibonacci sequence .......')\n",
    "def fibonaci_num(num):\n",
    "    # The base cases\n",
    "    if num <= 1:  # First number in the sequence\n",
    "        return 0\n",
    "    elif num == 2:  # Second number in the sequence\n",
    "        return 1\n",
    "    else:\n",
    "        # Recursive call\n",
    "        return fibonaci_num(num - 1) + fibonaci_num(num - 2) #show the nth fibonacci number\n",
    "    \n",
    "    \n",
    "fibonaci_num(num)\n"
   ]
  },
  {
   "cell_type": "code",
   "execution_count": null,
   "id": "0de0203e",
   "metadata": {},
   "outputs": [],
   "source": [
    "my_string = \"Hello\"\n",
    "\n",
    "\n",
    "def exclamation(my_string):\n",
    "    my_string = \"!!\" + my_string + \"!!\"\n",
    "    #print(my_string)\n",
    "    return my_string\n",
    "\n",
    "print(my_string)\n",
    "exclamation(my_string)\n",
    "#print(my_string)#override\n"
   ]
  },
  {
   "cell_type": "markdown",
   "id": "f77ce7bc",
   "metadata": {},
   "source": [
    "\n"
   ]
  },
  {
   "cell_type": "code",
   "execution_count": null,
   "id": "26c09fe7",
   "metadata": {},
   "outputs": [],
   "source": [
    "#write a code with output:555553333\n",
    "def rep_cat(x, y):\n",
    "    return str(x)*5 + str(y)*4 \n",
    "\n",
    "print(rep_cat(5,3))\n"
   ]
  },
  {
   "cell_type": "code",
   "execution_count": null,
   "id": "0cfb39a1",
   "metadata": {},
   "outputs": [],
   "source": [
    "#factorial  :of a number, n, is its product all the integers between 0 and n.\n",
    "#math.factorial(5) #built in function\n",
    "\n",
    "def factorial(n):\n",
    "    # Base case\n",
    "    if n == 0 or n == 1:\n",
    "        return 1\n",
    "\n",
    "    if n < 0:\n",
    "        return -1\n",
    "    # Recursive call\n",
    "    return n * factorial(n - 1)\n",
    "\n",
    "\n",
    "print(factorial(-5))\n",
    "\n",
    "    \n",
    "\n",
    "    "
   ]
  },
  {
   "cell_type": "code",
   "execution_count": null,
   "id": "7c4e6223",
   "metadata": {},
   "outputs": [],
   "source": [
    "# loop\n",
    "#A loop is a control structure that is used to perform a set of instructions for a specific number of times.\n",
    "#here are two types of loops that we can use in Python:  The for loop the while loop\n",
    "#nested loop:  print two elements whose sum is equal to a certain number n.\n",
    "given_num = 50\n",
    "given_list = [10,34,25,16,40]\n",
    "for n1 in given_list:\n",
    "    for n2 in given_list:\n",
    "        if(n1 != n2):\n",
    "            if(n1 + n2 == given_num):\n",
    "                print(f'sum of {n1} + {n2} = {given_num} ',given_list)\n",
    "                "
   ]
  },
  {
   "cell_type": "code",
   "execution_count": 2,
   "id": "127879f6",
   "metadata": {},
   "outputs": [
    {
     "name": "stdout",
     "output_type": "stream",
     "text": [
      "7\n"
     ]
    }
   ],
   "source": [
    "# loop computes the sum of the first and the last digits of any integer\n",
    "''' \n",
    "n = 249\n",
    "last = n % 10  # Finding the last number is easy\n",
    "\n",
    "first = n  # Set it to `n` initially\n",
    "while first >= 10:\n",
    "    first //= 10  # Keep dividing by 10 until the leftmost digit is reached.\n",
    "\n",
    "result = first + last\n",
    "print(result)\n",
    "\n",
    "'''\n",
    "num = 2015\n",
    "last_digit= num % 10\n",
    "first_digit = num\n",
    "while first_digit >= 10:\n",
    "    first_digit //=10\n",
    "    \n",
    "rslt = first_digit + last_digit\n",
    "print(rslt)\n",
    "\n",
    "\n"
   ]
  },
  {
   "cell_type": "code",
   "execution_count": null,
   "id": "dd7e5fda",
   "metadata": {},
   "outputs": [],
   "source": []
  },
  {
   "cell_type": "code",
   "execution_count": 1,
   "id": "d907fa73",
   "metadata": {},
   "outputs": [
    {
     "name": "stdout",
     "output_type": "stream",
     "text": [
      "4\n",
      "3\n",
      "4\n"
     ]
    }
   ],
   "source": [
    "string_list = [\"Anakin\", \"Luke\", \"Rey\", \"Leia\", \"Vader\"]\n",
    "for s in string_list:\n",
    "    if len(s) < 5:\n",
    "        print(len(s)) "
   ]
  },
  {
   "cell_type": "code",
   "execution_count": null,
   "id": "06e4eb0b",
   "metadata": {},
   "outputs": [],
   "source": []
  }
 ],
 "metadata": {
  "kernelspec": {
   "display_name": "Python 3 (ipykernel)",
   "language": "python",
   "name": "python3"
  },
  "language_info": {
   "codemirror_mode": {
    "name": "ipython",
    "version": 3
   },
   "file_extension": ".py",
   "mimetype": "text/x-python",
   "name": "python",
   "nbconvert_exporter": "python",
   "pygments_lexer": "ipython3",
   "version": "3.9.13"
  }
 },
 "nbformat": 4,
 "nbformat_minor": 5
}
