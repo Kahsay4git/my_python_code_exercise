{
 "cells": [
  {
   "cell_type": "code",
   "execution_count": 27,
   "id": "97d78623",
   "metadata": {},
   "outputs": [],
   "source": [
    "class Pizza:\n",
    "    def __init__(self, ingredients):\n",
    "        self.ingredients = ingredients\n",
    "\n",
    "    def __repr__(self):\n",
    "        return f' output>: {self.ingredients}'"
   ]
  },
  {
   "cell_type": "code",
   "execution_count": 28,
   "id": "f06eccd1",
   "metadata": {},
   "outputs": [
    {
     "data": {
      "text/plain": [
       " output>: ['cheese', 'tomatoes']"
      ]
     },
     "execution_count": 28,
     "metadata": {},
     "output_type": "execute_result"
    }
   ],
   "source": [
    "Pizza(['cheese', 'tomatoes'])"
   ]
  },
  {
   "cell_type": "code",
   "execution_count": 34,
   "id": "785cf33f",
   "metadata": {},
   "outputs": [],
   "source": [
    "\n",
    "#cls argument in the margherita and prosciutto factory methods instead of calling the Pizza constructor directly.\n",
    "\n",
    "#This is a trick you can use to follow the Don’t Repeat Yourself (DRY) principle. \n",
    "#If we decide to rename this class at some point we won’t have to remember updating the constructor name \n",
    "#in all of the classmethod factory functions\n",
    "class Pizza:\n",
    "    def __init__(self, ingredients):\n",
    "        self.ingredients = ingredients\n",
    "\n",
    "    def __repr__(self):\n",
    "        return f'Pizza({self.ingredients!r})'\n",
    "\n",
    "    @classmethod\n",
    "    def margherita(cls):\n",
    "        return cls(['mozzarella', 'tomatoes'])\n",
    "\n",
    "    @classmethod\n",
    "    def prosciutto(cls):\n",
    "        return cls(['mozzarella', 'tomatoes', 'ham'])"
   ]
  },
  {
   "cell_type": "code",
   "execution_count": 35,
   "id": "82a8d157",
   "metadata": {},
   "outputs": [
    {
     "data": {
      "text/plain": [
       "Pizza(['mozzarella', 'tomatoes'])"
      ]
     },
     "execution_count": 35,
     "metadata": {},
     "output_type": "execute_result"
    }
   ],
   "source": [
    "Pizza.margherita()"
   ]
  },
  {
   "cell_type": "code",
   "execution_count": 37,
   "id": "a8bbb376",
   "metadata": {},
   "outputs": [
    {
     "data": {
      "text/plain": [
       "Pizza(['mozzarella', 'tomatoes', 'ham'])"
      ]
     },
     "execution_count": 37,
     "metadata": {},
     "output_type": "execute_result"
    }
   ],
   "source": [
    "Pizza.prosciutto()"
   ]
  },
  {
   "cell_type": "code",
   "execution_count": null,
   "id": "b9c49432",
   "metadata": {},
   "outputs": [],
   "source": [
    "#bject-oriented programming is a programming paradigm that provides a means of structuring programs so that properties and \n",
    "#behaviors are bundled into \n",
    "#individual objects.\n",
    "\n",
    "#For instance, an object could represent a person with properties like a name, age, and address and behaviors such as\n",
    "#walking, talking, breathing, and running\n",
    "\n",
    "#Classes are used to create user-defined data structures. Classes define functions called methods, which identify \n",
    "#the behaviors and actions that an object created from the class can perform with its data.\n",
    "\n",
    "class Dog:\n",
    "    species ='animal'\n",
    "    def __init__(self, name, age,):\n",
    "        self.name  = name\n",
    "        self.age = age\n",
    "        \n",
    "        "
   ]
  },
  {
   "cell_type": "code",
   "execution_count": 40,
   "id": "e1c9b4aa",
   "metadata": {},
   "outputs": [
    {
     "data": {
      "text/plain": [
       "'animal'"
      ]
     },
     "execution_count": 40,
     "metadata": {},
     "output_type": "execute_result"
    }
   ],
   "source": [
    "Dog.species"
   ]
  },
  {
   "cell_type": "code",
   "execution_count": 42,
   "id": "a3513cc7",
   "metadata": {},
   "outputs": [
    {
     "data": {
      "text/plain": [
       "'u can chage the initial value of class attribute'"
      ]
     },
     "execution_count": 42,
     "metadata": {},
     "output_type": "execute_result"
    }
   ],
   "source": [
    "Dog.species = 'u can chage the initial value of class attribute'\n",
    "Dog.species\n"
   ]
  },
  {
   "cell_type": "code",
   "execution_count": 43,
   "id": "4f70ada0",
   "metadata": {},
   "outputs": [
    {
     "data": {
      "text/plain": [
       "<__main__.Dog at 0xccabd05dc0>"
      ]
     },
     "execution_count": 43,
     "metadata": {},
     "output_type": "execute_result"
    }
   ],
   "source": [
    "Dog('buchla', 24)"
   ]
  },
  {
   "cell_type": "markdown",
   "id": "a02c72bd",
   "metadata": {},
   "source": [
    "DMethods like .__init__() and .__str__() are called dunder methods because they begin and end with double underscores.\n",
    "There are many dunder methods that you can use to \n",
    "customize classes in Python. og.name"
   ]
  },
  {
   "cell_type": "code",
   "execution_count": 54,
   "id": "99a98df0",
   "metadata": {},
   "outputs": [],
   "source": [
    "class Car:\n",
    "    def __init__(self, mileage,color):\n",
    "        self.mileage =mileage\n",
    "        self.color = color\n",
    "    def display(self):\n",
    "        return f'car color is {self.color} and mile cover is:{self.mileage}'\n",
    "        \n",
    "        \n",
    "        "
   ]
  },
  {
   "cell_type": "code",
   "execution_count": 57,
   "id": "4a09a42d",
   "metadata": {},
   "outputs": [
    {
     "name": "stdout",
     "output_type": "stream",
     "text": [
      "car color is red and mile cover is:30000\n",
      "car color is blue and mile cover is:20000\n"
     ]
    }
   ],
   "source": [
    "blue_car = Car(color=\"blue\", mileage=20_000)\n",
    "red_car = Car(color=\"red\", mileage=30_000)\n",
    "print(red_car.display())\n",
    "print(blue_car.display())"
   ]
  },
  {
   "cell_type": "code",
   "execution_count": 69,
   "id": "530709a1",
   "metadata": {},
   "outputs": [],
   "source": [
    "#inherintance \n",
    "# there is two term > overridden  and extend\n",
    "class Dog:#parent\n",
    "    species = \"Canis familiaris\"\n",
    "\n",
    "    def __init__(self, name, age):\n",
    "        self.name = name\n",
    "        self.age = age\n",
    "\n",
    "    def __str__(self):\n",
    "        return f\"{self.name} is {self.age} years old\"\n",
    "\n",
    "    def speak(self, sound):\n",
    "        return f\"{self.name} says {sound}\""
   ]
  },
  {
   "cell_type": "code",
   "execution_count": 68,
   "id": "23f9d583",
   "metadata": {},
   "outputs": [],
   "source": [
    "#child   use form childclass(parentclass)\n",
    "class GoldenRetriever(Dog):\n",
    "    def speak(self, sound=\"Bark\"):\n",
    "        return super().speak(sound)"
   ]
  },
  {
   "cell_type": "code",
   "execution_count": 65,
   "id": "7c8ea88b",
   "metadata": {},
   "outputs": [
    {
     "name": "stdout",
     "output_type": "stream",
     "text": [
      "habesh wusha is 12 years old\n"
     ]
    }
   ],
   "source": [
    "obj_1= GoldenRetriever('habesh wusha',12)\n",
    "print(obj_1)"
   ]
  },
  {
   "cell_type": "code",
   "execution_count": 66,
   "id": "e106444e",
   "metadata": {},
   "outputs": [
    {
     "data": {
      "text/plain": [
       "'habesh wusha says Bark'"
      ]
     },
     "execution_count": 66,
     "metadata": {},
     "output_type": "execute_result"
    }
   ],
   "source": [
    "obj_1.speak()"
   ]
  },
  {
   "cell_type": "code",
   "execution_count": 67,
   "id": "ae81e8cb",
   "metadata": {},
   "outputs": [
    {
     "data": {
      "text/plain": [
       "'habesh wusha says wuh'"
      ]
     },
     "execution_count": 67,
     "metadata": {},
     "output_type": "execute_result"
    }
   ],
   "source": [
    "obj_1.speak('wuh')"
   ]
  },
  {
   "cell_type": "code",
   "execution_count": null,
   "id": "41513fd3",
   "metadata": {},
   "outputs": [],
   "source": []
  }
 ],
 "metadata": {
  "kernelspec": {
   "display_name": "Python 3 (ipykernel)",
   "language": "python",
   "name": "python3"
  },
  "language_info": {
   "codemirror_mode": {
    "name": "ipython",
    "version": 3
   },
   "file_extension": ".py",
   "mimetype": "text/x-python",
   "name": "python",
   "nbconvert_exporter": "python",
   "pygments_lexer": "ipython3",
   "version": "3.9.13"
  }
 },
 "nbformat": 4,
 "nbformat_minor": 5
}
